{
 "cells": [
  {
   "cell_type": "code",
   "execution_count": null,
   "id": "0bdbff07",
   "metadata": {},
   "outputs": [
    {
     "name": "stdout",
     "output_type": "stream",
     "text": [
      "John Smith\n",
      "['Send updated pricing proposal by Friday', 'Schedule demo call for next Tuesday']\n",
      "{'client_name': 'John Smith', 'action_items': ['Send updated pricing proposal by Friday', 'Schedule demo call for next Tuesday']}\n",
      "\n",
      "\n",
      "Blog Intro:\n",
      "Indulge in the essence of opulence with our newest addition to the fragrance collection – our luxurious perfume, adorned in gold-tone packaging that embodies the grandeur of Dubai's rich culture. Our unique scent bursts with intricate notes of jasmine, rose, and sandalwood, encased in a stunning masterpiece that celebrates the city's glistening spirit. Elevate your olfactory experience with this uniquely crafted perfume, made with the finest ingredients sourced from the worlds' exotic regions, infused to perfection. Unleash the power of luxury with our exclusive fragrance, perfect for any affair that demands class and finesse.\n",
      "\n",
      "LinkedIn Caption:\n",
      "Experience the epitome of elegance with our latest addition to our fragrance line! Our luxury perfume, elegantly packaged in golden hues, inspired\n"
     ]
    }
   ],
   "source": [
    "from huggingface_hub import InferenceClient\n",
    "\n",
    "client = InferenceClient(\n",
    "    \"HuggingFaceH4/zephyr-7b-beta\",  \n",
    "    token=\"********\"\n",
    ")\n",
    "\n",
    "import re, json\n",
    "\n",
    "def email():\n",
    "    email_text = \"\"\"Hello Apurva,  \n",
    "\n",
    "    Thank you for reaching out to us. Please send over the updated pricing proposal by Friday and schedule a demo call for next Tuesday.  \n",
    "    Also, kindly share the case studies you mentioned during our last conversation.  \n",
    "\n",
    "    Best regards,  \n",
    "    John Smith\"\"\"\n",
    "    \n",
    "    prompt = (\n",
    "        \"You MUST respond ONLY with valid JSON. Do NOT add extra text.\\n\"\n",
    "        \"Extract the client’s name and list action items as JSON. \"\n",
    "        'Return EXACTLY in this format: { \"client_name\": string, \"action_items\": [list of strings] }.\\n'\n",
    "        \"Email:\\n\" + email_text\n",
    "    )\n",
    "    \n",
    "    response = client.chat_completion(\n",
    "        model=\"HuggingFaceH4/zephyr-7b-beta\",\n",
    "        messages=[{\"role\": \"user\", \"content\": prompt}],\n",
    "        max_tokens=300,\n",
    "    )\n",
    "\n",
    "    text = response.choices[0].message[\"content\"]\n",
    "\n",
    "    match = re.search(r\"\\{.*?\\}\", text, re.DOTALL)  \n",
    "    if match:\n",
    "        try:\n",
    "            parsed_op = json.loads(match.group(0))\n",
    "        except json.JSONDecodeError:\n",
    "            parsed_op = {\"client_name\": \"\", \"action_items\": []}\n",
    "    else:\n",
    "        parsed_op = {\"client_name\": \"\", \"action_items\": []}\n",
    "\n",
    "    print(parsed_op[\"client_name\"])\n",
    "    print(parsed_op[\"action_items\"])\n",
    "    return parsed_op\n",
    "\n",
    "\n",
    "def post_content():\n",
    "    product = \"Luxury perfume, gold packaging, Dubai market\"\n",
    "    prompt = (\n",
    "        \"Using the product features provided, generate a professional blog intro of 2–3 sentences \"\n",
    "        \"and a LinkedIn caption that is short and engaging.\\nProduct:\\n\" + product\n",
    "    )\n",
    "\n",
    "    response = client.chat_completion(\n",
    "        model=\"HuggingFaceH4/zephyr-7b-beta\",\n",
    "        messages=[{\"role\": \"user\", \"content\": prompt}],\n",
    "        max_tokens=200,\n",
    "    )\n",
    "\n",
    "    return response.choices[0].message[\"content\"]\n",
    "\n",
    "print(email())\n",
    "print(post_content())"
   ]
  }
 ],
 "metadata": {
  "kernelspec": {
   "display_name": "Python 3",
   "language": "python",
   "name": "python3"
  },
  "language_info": {
   "codemirror_mode": {
    "name": "ipython",
    "version": 3
   },
   "file_extension": ".py",
   "mimetype": "text/x-python",
   "name": "python",
   "nbconvert_exporter": "python",
   "pygments_lexer": "ipython3",
   "version": "3.13.2"
  }
 },
 "nbformat": 4,
 "nbformat_minor": 5
}
