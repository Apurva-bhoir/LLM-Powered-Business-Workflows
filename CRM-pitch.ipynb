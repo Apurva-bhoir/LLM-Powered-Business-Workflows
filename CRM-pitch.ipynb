{
 "cells": [
  {
   "cell_type": "code",
   "execution_count": null,
   "id": "913e20e4",
   "metadata": {},
   "outputs": [],
   "source": [
    "import pandas as pd\n",
    "import json\n"
   ]
  },
  {
   "cell_type": "markdown",
   "id": "14f6cc5b",
   "metadata": {},
   "source": [
    "### Prepare the CRM data"
   ]
  },
  {
   "cell_type": "code",
   "execution_count": 80,
   "id": "6f5b1a39",
   "metadata": {},
   "outputs": [],
   "source": [
    "\n",
    "crm_data = [\n",
    "    {\n",
    "        \"client_name\": \"John Smith\",\n",
    "        \"company\": \"Acme Corp\",\n",
    "        \"last_contact_date\": \"2025-08-20\",\n",
    "        \"industry\": \"Manufacturing\",\n",
    "        \"deal_stage\": \"Proposal Sent\",\n",
    "        \"interests\": [\"Automation\", \"Cost Reduction\"],\n",
    "        \"notes\": \"Interested in our AI analytics solution. Requested updated pricing proposal.\"\n",
    "    },\n",
    "    {\n",
    "        \"client_name\": \"Mary Johnson\",\n",
    "        \"company\": \"Global Tech\",\n",
    "        \"last_contact_date\": \"2025-08-18\",\n",
    "        \"industry\": \"IT Services\",\n",
    "        \"deal_stage\": \"Lead\",\n",
    "        \"interests\": [\"Data Visualization\", \"Cloud Integration\"],\n",
    "        \"notes\": \"Attended webinar. Wants follow-up call next week.\"\n",
    "    },\n",
    "    {\n",
    "        \"client_name\": \"Rajesh Kumar\",\n",
    "        \"company\": \"FinSecure Ltd\",\n",
    "        \"last_contact_date\": \"2025-08-15\",\n",
    "        \"industry\": \"Finance\",\n",
    "        \"deal_stage\": \"Negotiation\",\n",
    "        \"interests\": [\"Predictive Analytics\", \"Risk Management\"],\n",
    "        \"notes\": \"Negotiating contract terms. Needs competitive analysis report.\"\n",
    "    }\n",
    "]\n"
   ]
  },
  {
   "cell_type": "code",
   "execution_count": 81,
   "id": "08563dab",
   "metadata": {},
   "outputs": [
    {
     "data": {
      "text/html": [
       "<div>\n",
       "<style scoped>\n",
       "    .dataframe tbody tr th:only-of-type {\n",
       "        vertical-align: middle;\n",
       "    }\n",
       "\n",
       "    .dataframe tbody tr th {\n",
       "        vertical-align: top;\n",
       "    }\n",
       "\n",
       "    .dataframe thead th {\n",
       "        text-align: right;\n",
       "    }\n",
       "</style>\n",
       "<table border=\"1\" class=\"dataframe\">\n",
       "  <thead>\n",
       "    <tr style=\"text-align: right;\">\n",
       "      <th></th>\n",
       "      <th>client_name</th>\n",
       "      <th>company</th>\n",
       "      <th>last_contact_date</th>\n",
       "      <th>industry</th>\n",
       "      <th>deal_stage</th>\n",
       "      <th>interests</th>\n",
       "      <th>notes</th>\n",
       "    </tr>\n",
       "  </thead>\n",
       "  <tbody>\n",
       "    <tr>\n",
       "      <th>0</th>\n",
       "      <td>John Smith</td>\n",
       "      <td>Acme Corp</td>\n",
       "      <td>2025-08-20</td>\n",
       "      <td>Manufacturing</td>\n",
       "      <td>Proposal Sent</td>\n",
       "      <td>[Automation, Cost Reduction]</td>\n",
       "      <td>Interested in our AI analytics solution. Reque...</td>\n",
       "    </tr>\n",
       "    <tr>\n",
       "      <th>1</th>\n",
       "      <td>Mary Johnson</td>\n",
       "      <td>Global Tech</td>\n",
       "      <td>2025-08-18</td>\n",
       "      <td>IT Services</td>\n",
       "      <td>Lead</td>\n",
       "      <td>[Data Visualization, Cloud Integration]</td>\n",
       "      <td>Attended webinar. Wants follow-up call next week.</td>\n",
       "    </tr>\n",
       "    <tr>\n",
       "      <th>2</th>\n",
       "      <td>Rajesh Kumar</td>\n",
       "      <td>FinSecure Ltd</td>\n",
       "      <td>2025-08-15</td>\n",
       "      <td>Finance</td>\n",
       "      <td>Negotiation</td>\n",
       "      <td>[Predictive Analytics, Risk Management]</td>\n",
       "      <td>Negotiating contract terms. Needs competitive ...</td>\n",
       "    </tr>\n",
       "  </tbody>\n",
       "</table>\n",
       "</div>"
      ],
      "text/plain": [
       "    client_name        company last_contact_date       industry  \\\n",
       "0    John Smith      Acme Corp        2025-08-20  Manufacturing   \n",
       "1  Mary Johnson    Global Tech        2025-08-18    IT Services   \n",
       "2  Rajesh Kumar  FinSecure Ltd        2025-08-15        Finance   \n",
       "\n",
       "      deal_stage                                interests  \\\n",
       "0  Proposal Sent             [Automation, Cost Reduction]   \n",
       "1           Lead  [Data Visualization, Cloud Integration]   \n",
       "2    Negotiation  [Predictive Analytics, Risk Management]   \n",
       "\n",
       "                                               notes  \n",
       "0  Interested in our AI analytics solution. Reque...  \n",
       "1  Attended webinar. Wants follow-up call next week.  \n",
       "2  Negotiating contract terms. Needs competitive ...  "
      ]
     },
     "execution_count": 81,
     "metadata": {},
     "output_type": "execute_result"
    }
   ],
   "source": [
    "df = pd.DataFrame(crm_data)\n",
    "df"
   ]
  },
  {
   "cell_type": "markdown",
   "id": "6c99ef01",
   "metadata": {},
   "source": [
    "### Connect to Hugging Face API"
   ]
  },
  {
   "cell_type": "code",
   "execution_count": null,
   "id": "6914ff8d",
   "metadata": {},
   "outputs": [],
   "source": [
    "from huggingface_hub import InferenceClient\n",
    "\n",
    "client = InferenceClient(\n",
    "    \"HuggingFaceH4/zephyr-7b-beta\",  \n",
    "    token=\"HF_token\"\n",
    ")"
   ]
  },
  {
   "cell_type": "markdown",
   "id": "f3f26972",
   "metadata": {},
   "source": [
    "### Defining the function and writing the prompt"
   ]
  },
  {
   "cell_type": "code",
   "execution_count": 83,
   "id": "1bdccd0d",
   "metadata": {},
   "outputs": [],
   "source": [
    "\n",
    "def pitch(client_data):\n",
    "    prompt = f\"\"\"\n",
    "    You are a sales executive. Using ONLY the following CRM client information, write a professional, personalized pitch email:\n",
    "\n",
    "    {json.dumps(client_data)}\n",
    "\n",
    "    The email should:\n",
    "    - Greet the client by name\n",
    "    - Reference the company and interests\n",
    "    - Be persuasive but professional\n",
    "    - Include a clear call-to-action\n",
    "\n",
    "    Return the email as plain text (do not include any other client or example data).\n",
    "    \"\"\"\n",
    "\n",
    "    response = client.chat_completion(\n",
    "        model=\"HuggingFaceH4/zephyr-7b-beta\",\n",
    "        messages=[{\"role\": \"user\", \"content\": prompt}],\n",
    "        max_tokens=400,\n",
    "    )\n",
    "\n",
    "    return response.choices[0].message[\"content\"]\n",
    "\n"
   ]
  },
  {
   "cell_type": "markdown",
   "id": "a7fde46d",
   "metadata": {},
   "source": [
    "### Call function "
   ]
  },
  {
   "cell_type": "code",
   "execution_count": 84,
   "id": "ff7bf5bc",
   "metadata": {},
   "outputs": [
    {
     "name": "stdout",
     "output_type": "stream",
     "text": [
      "\n",
      "\n",
      "    Subject: Follow-up on AI Analytics Proposal for Acme Corp\n",
      "\n",
      "    Dear John Smith,\n",
      "\n",
      "    I hope this email finds you well. Given our recent communication, I wanted to provide an update on the status of your request for an updated pricing proposal for our AI analytics solution. Our team has reviewed your original proposal, and we are excited to share that we have revised pricing based on your interest in automation and cost reduction. As a manufacturing company, we understand the importance of finding ways to improve efficiency and reduce overhead expenses, which are key priorities for your industry. Our AI analytics solution can provide significant benefits in this area. We believe that our software can help your business achieve these goals while also improving overall productivity and growth opportunities. Please find the updated proposal attached for your review.\n",
      "\n",
      "    At Acme Corp, we value our partnership and would like to arrange a meeting to further discuss the benefits and company success stories from our solution. We look forward to clarifying any further questions you may have and providing insights on how this software can meet your needs. Please let us know if a particular time and date works best for you to connect.\n",
      "\n",
      "    Thank you for considering our product, and we look forward to continuing our work together. If you have any further interests or concerns, please don't hesitate to contact us as we strive to be accommodating.\n",
      "\n",
      "    Best Regards,\n",
      "\n",
      "    [Your Name]\n",
      "\n",
      "    [Your Company Name] Sales Team\n"
     ]
    }
   ],
   "source": [
    "print(pitch(crm_data[0]))"
   ]
  }
 ],
 "metadata": {
  "kernelspec": {
   "display_name": "Python 3",
   "language": "python",
   "name": "python3"
  },
  "language_info": {
   "codemirror_mode": {
    "name": "ipython",
    "version": 3
   },
   "file_extension": ".py",
   "mimetype": "text/x-python",
   "name": "python",
   "nbconvert_exporter": "python",
   "pygments_lexer": "ipython3",
   "version": "3.13.2"
  }
 },
 "nbformat": 4,
 "nbformat_minor": 5
}
